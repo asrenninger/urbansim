{
  "nbformat": 4,
  "nbformat_minor": 0,
  "metadata": {
    "colab": {
      "provenance": [],
      "machine_shape": "hm",
      "authorship_tag": "ABX9TyMj9b3gInWBwmD7GlB4I4T4",
      "include_colab_link": true
    },
    "kernelspec": {
      "name": "python3",
      "display_name": "Python 3"
    },
    "language_info": {
      "name": "python"
    },
    "widgets": {
      "application/vnd.jupyter.widget-state+json": {
        "10a31b6eac1b40b495344725e89d2d56": {
          "model_module": "@jupyter-widgets/controls",
          "model_name": "HBoxModel",
          "model_module_version": "1.5.0",
          "state": {
            "_dom_classes": [],
            "_model_module": "@jupyter-widgets/controls",
            "_model_module_version": "1.5.0",
            "_model_name": "HBoxModel",
            "_view_count": null,
            "_view_module": "@jupyter-widgets/controls",
            "_view_module_version": "1.5.0",
            "_view_name": "HBoxView",
            "box_style": "",
            "children": [
              "IPY_MODEL_8c9d99cc72b8419586f4d08276da4138",
              "IPY_MODEL_5928ffd3a55f49d5a12f2503a850cb4c",
              "IPY_MODEL_573d9c1012bc4d10b2295933acf7723c"
            ],
            "layout": "IPY_MODEL_23c90a86aa914602b340d0a97fcd326d"
          }
        },
        "8c9d99cc72b8419586f4d08276da4138": {
          "model_module": "@jupyter-widgets/controls",
          "model_name": "HTMLModel",
          "model_module_version": "1.5.0",
          "state": {
            "_dom_classes": [],
            "_model_module": "@jupyter-widgets/controls",
            "_model_module_version": "1.5.0",
            "_model_name": "HTMLModel",
            "_view_count": null,
            "_view_module": "@jupyter-widgets/controls",
            "_view_module_version": "1.5.0",
            "_view_name": "HTMLView",
            "description": "",
            "description_tooltip": null,
            "layout": "IPY_MODEL_23c420b9a7174d25b5b6a34ed7fb8bc1",
            "placeholder": "​",
            "style": "IPY_MODEL_8806c03b28a646169ba46f0e637673f0",
            "value": "Computing transition probabilities: 100%"
          }
        },
        "5928ffd3a55f49d5a12f2503a850cb4c": {
          "model_module": "@jupyter-widgets/controls",
          "model_name": "FloatProgressModel",
          "model_module_version": "1.5.0",
          "state": {
            "_dom_classes": [],
            "_model_module": "@jupyter-widgets/controls",
            "_model_module_version": "1.5.0",
            "_model_name": "FloatProgressModel",
            "_view_count": null,
            "_view_module": "@jupyter-widgets/controls",
            "_view_module_version": "1.5.0",
            "_view_name": "ProgressView",
            "bar_style": "success",
            "description": "",
            "description_tooltip": null,
            "layout": "IPY_MODEL_c2f5dd681bf743f696a9af0db2010dcd",
            "max": 201,
            "min": 0,
            "orientation": "horizontal",
            "style": "IPY_MODEL_3a40bc0178364d19b25a55b345e361df",
            "value": 201
          }
        },
        "573d9c1012bc4d10b2295933acf7723c": {
          "model_module": "@jupyter-widgets/controls",
          "model_name": "HTMLModel",
          "model_module_version": "1.5.0",
          "state": {
            "_dom_classes": [],
            "_model_module": "@jupyter-widgets/controls",
            "_model_module_version": "1.5.0",
            "_model_name": "HTMLModel",
            "_view_count": null,
            "_view_module": "@jupyter-widgets/controls",
            "_view_module_version": "1.5.0",
            "_view_name": "HTMLView",
            "description": "",
            "description_tooltip": null,
            "layout": "IPY_MODEL_56e9b2a1d11649aea5a9ee2b6099e003",
            "placeholder": "​",
            "style": "IPY_MODEL_da27a41227ca47abac654c4284725129",
            "value": " 201/201 [00:23&lt;00:00, 12.26it/s]"
          }
        },
        "23c90a86aa914602b340d0a97fcd326d": {
          "model_module": "@jupyter-widgets/base",
          "model_name": "LayoutModel",
          "model_module_version": "1.2.0",
          "state": {
            "_model_module": "@jupyter-widgets/base",
            "_model_module_version": "1.2.0",
            "_model_name": "LayoutModel",
            "_view_count": null,
            "_view_module": "@jupyter-widgets/base",
            "_view_module_version": "1.2.0",
            "_view_name": "LayoutView",
            "align_content": null,
            "align_items": null,
            "align_self": null,
            "border": null,
            "bottom": null,
            "display": null,
            "flex": null,
            "flex_flow": null,
            "grid_area": null,
            "grid_auto_columns": null,
            "grid_auto_flow": null,
            "grid_auto_rows": null,
            "grid_column": null,
            "grid_gap": null,
            "grid_row": null,
            "grid_template_areas": null,
            "grid_template_columns": null,
            "grid_template_rows": null,
            "height": null,
            "justify_content": null,
            "justify_items": null,
            "left": null,
            "margin": null,
            "max_height": null,
            "max_width": null,
            "min_height": null,
            "min_width": null,
            "object_fit": null,
            "object_position": null,
            "order": null,
            "overflow": null,
            "overflow_x": null,
            "overflow_y": null,
            "padding": null,
            "right": null,
            "top": null,
            "visibility": null,
            "width": null
          }
        },
        "23c420b9a7174d25b5b6a34ed7fb8bc1": {
          "model_module": "@jupyter-widgets/base",
          "model_name": "LayoutModel",
          "model_module_version": "1.2.0",
          "state": {
            "_model_module": "@jupyter-widgets/base",
            "_model_module_version": "1.2.0",
            "_model_name": "LayoutModel",
            "_view_count": null,
            "_view_module": "@jupyter-widgets/base",
            "_view_module_version": "1.2.0",
            "_view_name": "LayoutView",
            "align_content": null,
            "align_items": null,
            "align_self": null,
            "border": null,
            "bottom": null,
            "display": null,
            "flex": null,
            "flex_flow": null,
            "grid_area": null,
            "grid_auto_columns": null,
            "grid_auto_flow": null,
            "grid_auto_rows": null,
            "grid_column": null,
            "grid_gap": null,
            "grid_row": null,
            "grid_template_areas": null,
            "grid_template_columns": null,
            "grid_template_rows": null,
            "height": null,
            "justify_content": null,
            "justify_items": null,
            "left": null,
            "margin": null,
            "max_height": null,
            "max_width": null,
            "min_height": null,
            "min_width": null,
            "object_fit": null,
            "object_position": null,
            "order": null,
            "overflow": null,
            "overflow_x": null,
            "overflow_y": null,
            "padding": null,
            "right": null,
            "top": null,
            "visibility": null,
            "width": null
          }
        },
        "8806c03b28a646169ba46f0e637673f0": {
          "model_module": "@jupyter-widgets/controls",
          "model_name": "DescriptionStyleModel",
          "model_module_version": "1.5.0",
          "state": {
            "_model_module": "@jupyter-widgets/controls",
            "_model_module_version": "1.5.0",
            "_model_name": "DescriptionStyleModel",
            "_view_count": null,
            "_view_module": "@jupyter-widgets/base",
            "_view_module_version": "1.2.0",
            "_view_name": "StyleView",
            "description_width": ""
          }
        },
        "c2f5dd681bf743f696a9af0db2010dcd": {
          "model_module": "@jupyter-widgets/base",
          "model_name": "LayoutModel",
          "model_module_version": "1.2.0",
          "state": {
            "_model_module": "@jupyter-widgets/base",
            "_model_module_version": "1.2.0",
            "_model_name": "LayoutModel",
            "_view_count": null,
            "_view_module": "@jupyter-widgets/base",
            "_view_module_version": "1.2.0",
            "_view_name": "LayoutView",
            "align_content": null,
            "align_items": null,
            "align_self": null,
            "border": null,
            "bottom": null,
            "display": null,
            "flex": null,
            "flex_flow": null,
            "grid_area": null,
            "grid_auto_columns": null,
            "grid_auto_flow": null,
            "grid_auto_rows": null,
            "grid_column": null,
            "grid_gap": null,
            "grid_row": null,
            "grid_template_areas": null,
            "grid_template_columns": null,
            "grid_template_rows": null,
            "height": null,
            "justify_content": null,
            "justify_items": null,
            "left": null,
            "margin": null,
            "max_height": null,
            "max_width": null,
            "min_height": null,
            "min_width": null,
            "object_fit": null,
            "object_position": null,
            "order": null,
            "overflow": null,
            "overflow_x": null,
            "overflow_y": null,
            "padding": null,
            "right": null,
            "top": null,
            "visibility": null,
            "width": null
          }
        },
        "3a40bc0178364d19b25a55b345e361df": {
          "model_module": "@jupyter-widgets/controls",
          "model_name": "ProgressStyleModel",
          "model_module_version": "1.5.0",
          "state": {
            "_model_module": "@jupyter-widgets/controls",
            "_model_module_version": "1.5.0",
            "_model_name": "ProgressStyleModel",
            "_view_count": null,
            "_view_module": "@jupyter-widgets/base",
            "_view_module_version": "1.2.0",
            "_view_name": "StyleView",
            "bar_color": null,
            "description_width": ""
          }
        },
        "56e9b2a1d11649aea5a9ee2b6099e003": {
          "model_module": "@jupyter-widgets/base",
          "model_name": "LayoutModel",
          "model_module_version": "1.2.0",
          "state": {
            "_model_module": "@jupyter-widgets/base",
            "_model_module_version": "1.2.0",
            "_model_name": "LayoutModel",
            "_view_count": null,
            "_view_module": "@jupyter-widgets/base",
            "_view_module_version": "1.2.0",
            "_view_name": "LayoutView",
            "align_content": null,
            "align_items": null,
            "align_self": null,
            "border": null,
            "bottom": null,
            "display": null,
            "flex": null,
            "flex_flow": null,
            "grid_area": null,
            "grid_auto_columns": null,
            "grid_auto_flow": null,
            "grid_auto_rows": null,
            "grid_column": null,
            "grid_gap": null,
            "grid_row": null,
            "grid_template_areas": null,
            "grid_template_columns": null,
            "grid_template_rows": null,
            "height": null,
            "justify_content": null,
            "justify_items": null,
            "left": null,
            "margin": null,
            "max_height": null,
            "max_width": null,
            "min_height": null,
            "min_width": null,
            "object_fit": null,
            "object_position": null,
            "order": null,
            "overflow": null,
            "overflow_x": null,
            "overflow_y": null,
            "padding": null,
            "right": null,
            "top": null,
            "visibility": null,
            "width": null
          }
        },
        "da27a41227ca47abac654c4284725129": {
          "model_module": "@jupyter-widgets/controls",
          "model_name": "DescriptionStyleModel",
          "model_module_version": "1.5.0",
          "state": {
            "_model_module": "@jupyter-widgets/controls",
            "_model_module_version": "1.5.0",
            "_model_name": "DescriptionStyleModel",
            "_view_count": null,
            "_view_module": "@jupyter-widgets/base",
            "_view_module_version": "1.2.0",
            "_view_name": "StyleView",
            "description_width": ""
          }
        }
      }
    }
  },
  "cells": [
    {
      "cell_type": "markdown",
      "metadata": {
        "id": "view-in-github",
        "colab_type": "text"
      },
      "source": [
        "<a href=\"https://colab.research.google.com/github/asrenninger/urbansim/blob/main/miscellany/overture.ipynb\" target=\"_parent\"><img src=\"https://colab.research.google.com/assets/colab-badge.svg\" alt=\"Open In Colab\"/></a>"
      ]
    },
    {
      "cell_type": "markdown",
      "source": [
        "# A guide to making place embeddings with Overture data\n",
        "[Overture Maps](https://overturemaps.org/) is open source effort to make map features readily available for web applications (as I understand it). It includes a repository of points of interest, along with cleaned up street networks. We can use these POIs to generate embeddings based on proximity.  "
      ],
      "metadata": {
        "id": "qu7335mmp5PK"
      }
    },
    {
      "cell_type": "code",
      "execution_count": null,
      "metadata": {
        "colab": {
          "base_uri": "https://localhost:8080/"
        },
        "id": "kSVprSGrsD4N",
        "outputId": "75d438bf-ecfb-4eb6-f85e-288114f3c0aa"
      },
      "outputs": [
        {
          "output_type": "stream",
          "name": "stdout",
          "text": [
            "Requirement already satisfied: duckdb in /usr/local/lib/python3.10/dist-packages (0.9.2)\n"
          ]
        }
      ],
      "source": [
        "!pip install duckdb"
      ]
    },
    {
      "cell_type": "code",
      "source": [
        "!pip install pacmap"
      ],
      "metadata": {
        "colab": {
          "base_uri": "https://localhost:8080/"
        },
        "id": "P2E0EGqs8T-P",
        "outputId": "c91523c5-0628-4bb2-bae2-0cb965f9a7bb"
      },
      "execution_count": null,
      "outputs": [
        {
          "output_type": "stream",
          "name": "stdout",
          "text": [
            "Collecting pacmap\n",
            "  Downloading pacmap-0.7.1-py3-none-any.whl (18 kB)\n",
            "Requirement already satisfied: scikit-learn>=0.20 in /usr/local/lib/python3.10/dist-packages (from pacmap) (1.2.2)\n",
            "Requirement already satisfied: numba>=0.57 in /usr/local/lib/python3.10/dist-packages (from pacmap) (0.58.1)\n",
            "Collecting annoy>=1.11 (from pacmap)\n",
            "  Downloading annoy-1.17.3.tar.gz (647 kB)\n",
            "\u001b[2K     \u001b[90m━━━━━━━━━━━━━━━━━━━━━━━━━━━━━━━━━━━━━━━━\u001b[0m \u001b[32m647.5/647.5 kB\u001b[0m \u001b[31m5.2 MB/s\u001b[0m eta \u001b[36m0:00:00\u001b[0m\n",
            "\u001b[?25h  Preparing metadata (setup.py) ... \u001b[?25l\u001b[?25hdone\n",
            "Requirement already satisfied: numpy>=1.20 in /usr/local/lib/python3.10/dist-packages (from pacmap) (1.23.5)\n",
            "Requirement already satisfied: llvmlite<0.42,>=0.41.0dev0 in /usr/local/lib/python3.10/dist-packages (from numba>=0.57->pacmap) (0.41.1)\n",
            "Requirement already satisfied: scipy>=1.3.2 in /usr/local/lib/python3.10/dist-packages (from scikit-learn>=0.20->pacmap) (1.11.4)\n",
            "Requirement already satisfied: joblib>=1.1.1 in /usr/local/lib/python3.10/dist-packages (from scikit-learn>=0.20->pacmap) (1.3.2)\n",
            "Requirement already satisfied: threadpoolctl>=2.0.0 in /usr/local/lib/python3.10/dist-packages (from scikit-learn>=0.20->pacmap) (3.2.0)\n",
            "Building wheels for collected packages: annoy\n",
            "  Building wheel for annoy (setup.py) ... \u001b[?25l\u001b[?25hdone\n",
            "  Created wheel for annoy: filename=annoy-1.17.3-cp310-cp310-linux_x86_64.whl size=552452 sha256=7f1e4365120e7a3c982a97911b5fef412b0151aa3c5f5af70949c2a0b4e88d90\n",
            "  Stored in directory: /root/.cache/pip/wheels/64/8a/da/f714bcf46c5efdcfcac0559e63370c21abe961c48e3992465a\n",
            "Successfully built annoy\n",
            "Installing collected packages: annoy, pacmap\n",
            "Successfully installed annoy-1.17.3 pacmap-0.7.1\n"
          ]
        }
      ]
    },
    {
      "cell_type": "code",
      "source": [
        "!pip install node2vec"
      ],
      "metadata": {
        "colab": {
          "base_uri": "https://localhost:8080/"
        },
        "id": "CxSdEYJjneso",
        "outputId": "3db60c6e-2c42-47c3-d226-3c44ee1ccebd"
      },
      "execution_count": null,
      "outputs": [
        {
          "output_type": "stream",
          "name": "stdout",
          "text": [
            "Collecting node2vec\n",
            "  Downloading node2vec-0.4.6-py3-none-any.whl (7.0 kB)\n",
            "Requirement already satisfied: gensim<5.0.0,>=4.1.2 in /usr/local/lib/python3.10/dist-packages (from node2vec) (4.3.2)\n",
            "Requirement already satisfied: joblib<2.0.0,>=1.1.0 in /usr/local/lib/python3.10/dist-packages (from node2vec) (1.3.2)\n",
            "Collecting networkx<3.0,>=2.5 (from node2vec)\n",
            "  Downloading networkx-2.8.8-py3-none-any.whl (2.0 MB)\n",
            "\u001b[2K     \u001b[90m━━━━━━━━━━━━━━━━━━━━━━━━━━━━━━━━━━━━━━━━\u001b[0m \u001b[32m2.0/2.0 MB\u001b[0m \u001b[31m9.8 MB/s\u001b[0m eta \u001b[36m0:00:00\u001b[0m\n",
            "\u001b[?25hRequirement already satisfied: numpy<2.0.0,>=1.19.5 in /usr/local/lib/python3.10/dist-packages (from node2vec) (1.23.5)\n",
            "Requirement already satisfied: tqdm<5.0.0,>=4.55.1 in /usr/local/lib/python3.10/dist-packages (from node2vec) (4.66.1)\n",
            "Requirement already satisfied: scipy>=1.7.0 in /usr/local/lib/python3.10/dist-packages (from gensim<5.0.0,>=4.1.2->node2vec) (1.11.4)\n",
            "Requirement already satisfied: smart-open>=1.8.1 in /usr/local/lib/python3.10/dist-packages (from gensim<5.0.0,>=4.1.2->node2vec) (6.4.0)\n",
            "Installing collected packages: networkx, node2vec\n",
            "  Attempting uninstall: networkx\n",
            "    Found existing installation: networkx 3.2.1\n",
            "    Uninstalling networkx-3.2.1:\n",
            "      Successfully uninstalled networkx-3.2.1\n",
            "\u001b[31mERROR: pip's dependency resolver does not currently take into account all the packages that are installed. This behaviour is the source of the following dependency conflicts.\n",
            "lida 0.0.10 requires fastapi, which is not installed.\n",
            "lida 0.0.10 requires kaleido, which is not installed.\n",
            "lida 0.0.10 requires python-multipart, which is not installed.\n",
            "lida 0.0.10 requires uvicorn, which is not installed.\u001b[0m\u001b[31m\n",
            "\u001b[0mSuccessfully installed networkx-2.8.8 node2vec-0.4.6\n"
          ]
        }
      ]
    },
    {
      "cell_type": "code",
      "source": [
        "!pip install adjustText"
      ],
      "metadata": {
        "colab": {
          "base_uri": "https://localhost:8080/"
        },
        "id": "eIDKdFIcn1ms",
        "outputId": "9ea2d974-e7e1-4628-b432-f671b9a08dd6"
      },
      "execution_count": null,
      "outputs": [
        {
          "output_type": "stream",
          "name": "stdout",
          "text": [
            "Collecting adjustText\n",
            "  Downloading adjustText-1.0-py3-none-any.whl (9.4 kB)\n",
            "Requirement already satisfied: numpy in /usr/local/lib/python3.10/dist-packages (from adjustText) (1.23.5)\n",
            "Requirement already satisfied: matplotlib in /usr/local/lib/python3.10/dist-packages (from adjustText) (3.7.1)\n",
            "Collecting bioframe (from adjustText)\n",
            "  Downloading bioframe-0.6.1-py2.py3-none-any.whl (143 kB)\n",
            "\u001b[2K     \u001b[90m━━━━━━━━━━━━━━━━━━━━━━━━━━━━━━━━━━━━━━━━\u001b[0m \u001b[32m143.8/143.8 kB\u001b[0m \u001b[31m3.2 MB/s\u001b[0m eta \u001b[36m0:00:00\u001b[0m\n",
            "\u001b[?25hRequirement already satisfied: scipy in /usr/local/lib/python3.10/dist-packages (from adjustText) (1.11.4)\n",
            "Requirement already satisfied: pandas>=1.3 in /usr/local/lib/python3.10/dist-packages (from bioframe->adjustText) (1.5.3)\n",
            "Requirement already satisfied: pyyaml in /usr/local/lib/python3.10/dist-packages (from bioframe->adjustText) (6.0.1)\n",
            "Requirement already satisfied: requests in /usr/local/lib/python3.10/dist-packages (from bioframe->adjustText) (2.31.0)\n",
            "Requirement already satisfied: contourpy>=1.0.1 in /usr/local/lib/python3.10/dist-packages (from matplotlib->adjustText) (1.2.0)\n",
            "Requirement already satisfied: cycler>=0.10 in /usr/local/lib/python3.10/dist-packages (from matplotlib->adjustText) (0.12.1)\n",
            "Requirement already satisfied: fonttools>=4.22.0 in /usr/local/lib/python3.10/dist-packages (from matplotlib->adjustText) (4.47.0)\n",
            "Requirement already satisfied: kiwisolver>=1.0.1 in /usr/local/lib/python3.10/dist-packages (from matplotlib->adjustText) (1.4.5)\n",
            "Requirement already satisfied: packaging>=20.0 in /usr/local/lib/python3.10/dist-packages (from matplotlib->adjustText) (23.2)\n",
            "Requirement already satisfied: pillow>=6.2.0 in /usr/local/lib/python3.10/dist-packages (from matplotlib->adjustText) (9.4.0)\n",
            "Requirement already satisfied: pyparsing>=2.3.1 in /usr/local/lib/python3.10/dist-packages (from matplotlib->adjustText) (3.1.1)\n",
            "Requirement already satisfied: python-dateutil>=2.7 in /usr/local/lib/python3.10/dist-packages (from matplotlib->adjustText) (2.8.2)\n",
            "Requirement already satisfied: pytz>=2020.1 in /usr/local/lib/python3.10/dist-packages (from pandas>=1.3->bioframe->adjustText) (2023.3.post1)\n",
            "Requirement already satisfied: six>=1.5 in /usr/local/lib/python3.10/dist-packages (from python-dateutil>=2.7->matplotlib->adjustText) (1.16.0)\n",
            "Requirement already satisfied: charset-normalizer<4,>=2 in /usr/local/lib/python3.10/dist-packages (from requests->bioframe->adjustText) (3.3.2)\n",
            "Requirement already satisfied: idna<4,>=2.5 in /usr/local/lib/python3.10/dist-packages (from requests->bioframe->adjustText) (3.6)\n",
            "Requirement already satisfied: urllib3<3,>=1.21.1 in /usr/local/lib/python3.10/dist-packages (from requests->bioframe->adjustText) (2.0.7)\n",
            "Requirement already satisfied: certifi>=2017.4.17 in /usr/local/lib/python3.10/dist-packages (from requests->bioframe->adjustText) (2023.11.17)\n",
            "Installing collected packages: bioframe, adjustText\n",
            "Successfully installed adjustText-1.0 bioframe-0.6.1\n"
          ]
        }
      ]
    },
    {
      "cell_type": "code",
      "source": [
        "import pacmap"
      ],
      "metadata": {
        "id": "YJoXPRkI8Yq4"
      },
      "execution_count": null,
      "outputs": []
    },
    {
      "cell_type": "markdown",
      "source": [
        "We need to set a bounding box to extract Overture data within; this could in principle be done with any country."
      ],
      "metadata": {
        "id": "_GmUKB4cqFOy"
      }
    },
    {
      "cell_type": "code",
      "source": [
        "import geopandas as gpd\n",
        "# Load the Natural Earth data for countries (you can adjust the resolution as needed)\n",
        "world = gpd.read_file(gpd.datasets.get_path('naturalearth_lowres'))\n",
        "\n",
        "# Filter out the United Kingdom\n",
        "uk = world[world['name'] == 'United Kingdom']\n",
        "# The UK's geometry consists of multiple polygons, we need to explode it and get the largest one (Great Britain)\n",
        "ex = uk.explode().reset_index(drop=True)\n",
        "# Assuming the largest polygon is Great Britain\n",
        "gb = ex.loc[ex.geometry.area.idxmax()]\n",
        "\n",
        "# Get the boundary and bounds of Great Britain\n",
        "boundary = gb.geometry.boundary\n",
        "bounds = gb.geometry.bounds"
      ],
      "metadata": {
        "colab": {
          "base_uri": "https://localhost:8080/"
        },
        "id": "3CGXFCJiu4-j",
        "outputId": "8091b3cc-f862-4283-f4e3-e73712bfb14a"
      },
      "execution_count": null,
      "outputs": [
        {
          "output_type": "stream",
          "name": "stderr",
          "text": [
            "<ipython-input-6-b2be0b74dd15>:3: FutureWarning: The geopandas.dataset module is deprecated and will be removed in GeoPandas 1.0. You can get the original 'naturalearth_lowres' data from https://www.naturalearthdata.com/downloads/110m-cultural-vectors/.\n",
            "  world = gpd.read_file(gpd.datasets.get_path('naturalearth_lowres'))\n",
            "<ipython-input-6-b2be0b74dd15>:8: FutureWarning: Currently, index_parts defaults to True, but in the future, it will default to False to be consistent with Pandas. Use `index_parts=True` to keep the current behavior and True/False to silence the warning.\n",
            "  ex = uk.explode().reset_index(drop=True)\n",
            "<ipython-input-6-b2be0b74dd15>:10: UserWarning: Geometry is in a geographic CRS. Results from 'area' are likely incorrect. Use 'GeoSeries.to_crs()' to re-project geometries to a projected CRS before this operation.\n",
            "\n",
            "  gb = ex.loc[ex.geometry.area.idxmax()]\n"
          ]
        }
      ]
    },
    {
      "cell_type": "markdown",
      "source": [
        "The best way to query Overture is with `duckDB`."
      ],
      "metadata": {
        "id": "mgcMdpx6rGLR"
      }
    },
    {
      "cell_type": "code",
      "source": [
        "import duckdb\n",
        "import pandas as pd\n",
        "\n",
        "# Initialize DuckDB\n",
        "con = duckdb.connect(database=':memory:')\n",
        "\n",
        "# Load the required extensions\n",
        "con.execute(\"INSTALL httpfs;\")\n",
        "con.execute(\"INSTALL spatial;\")\n",
        "con.execute(\"LOAD httpfs;\")\n",
        "con.execute(\"LOAD spatial;\")\n",
        "\n",
        "# Your DuckDB query to fetch data\n",
        "query = \"\"\"\n",
        "          SELECT\n",
        "            id,\n",
        "            updatetime,\n",
        "            version,\n",
        "            CAST(names AS JSON) AS names,\n",
        "            CAST(categories AS JSON) AS categories,\n",
        "            confidence,\n",
        "            CAST(brand AS JSON) AS brand,\n",
        "            CAST(addresses AS JSON) AS addresses,\n",
        "            ST_AsText(ST_GeomFromWKB(geometry)) AS geometry\n",
        "          FROM\n",
        "            read_parquet('s3://overturemaps-us-west-2/release/2023-11-14-alpha.0/theme=places/type=*/*', hive_partitioning=1)\n",
        "          WHERE\n",
        "              bbox.minx > -6.1499808414864106\n",
        "              AND bbox.maxx < 1.6815307959146821\n",
        "              AND bbox.miny > 49.95999990498109\n",
        "              AND bbox.maxy < 58.63500010846633\n",
        "        \"\"\"\n",
        "\n",
        "# Execute the query and load data into a Pandas DataFrame\n",
        "df = con.execute(query).fetchdf()\n",
        "df.head()"
      ],
      "metadata": {
        "colab": {
          "base_uri": "https://localhost:8080/",
          "height": 293
        },
        "id": "7yOLxFegsHTd",
        "outputId": "af440195-0fae-4cf3-ae61-fe07cac4961d"
      },
      "execution_count": null,
      "outputs": [
        {
          "output_type": "execute_result",
          "data": {
            "text/plain": [
              "                 id                updateTime  version  \\\n",
              "0  1179039698803288  2023-11-08T00:00:00.000Z        0   \n",
              "1   233241240773760  2023-11-08T00:00:00.000Z        0   \n",
              "2   648481172291889  2023-11-08T00:00:00.000Z        0   \n",
              "3   690096137797489  2023-11-08T00:00:00.000Z        0   \n",
              "4  1668347646734833  2023-11-08T00:00:00.000Z        0   \n",
              "\n",
              "                                               names  \\\n",
              "0  {\"common\":[{\"value\":\"Arthur's Quest\",\"language...   \n",
              "1  {\"common\":[{\"value\":\"Cornish Coastal Path\",\"la...   \n",
              "2  {\"common\":[{\"value\":\"Porthcurno, Cornwall\",\"la...   \n",
              "3  {\"common\":[{\"value\":\"Carn Guthensbrâs\",\"langua...   \n",
              "4  {\"common\":[{\"value\":\"Pednvounder & Treen Beach...   \n",
              "\n",
              "                                          categories  confidence brand  \\\n",
              "0  {\"main\":\"landmark_and_historical_building\",\"al...    0.627857  None   \n",
              "1  {\"main\":\"hiking_trail\",\"alternate\":[\"landmark_...    0.787283  None   \n",
              "2  {\"main\":\"landmark_and_historical_building\",\"al...    0.740240  None   \n",
              "3  {\"main\":\"landmark_and_historical_building\",\"al...    0.791963  None   \n",
              "4     {\"main\":\"beach\",\"alternate\":[\"accommodation\"]}    0.903057  None   \n",
              "\n",
              "                                           addresses  \\\n",
              "0                                                 []   \n",
              "1                                                 []   \n",
              "2                                                 []   \n",
              "3                                                 []   \n",
              "4  [{\"freeform\":\"TR19 6LF\",\"locality\":\"Penzance\",...   \n",
              "\n",
              "                        geometry  \n",
              "0  POINT (-5.7133051 50.0658607)  \n",
              "1   POINT (-5.714477 50.0659304)  \n",
              "2   POINT (-5.670925 50.0382518)  \n",
              "3      POINT (-5.68333 50.03333)  \n",
              "4  POINT (-5.6409763 50.0499056)  "
            ],
            "text/html": [
              "\n",
              "  <div id=\"df-8188f401-2f1f-427d-906e-447cda7b25eb\" class=\"colab-df-container\">\n",
              "    <div>\n",
              "<style scoped>\n",
              "    .dataframe tbody tr th:only-of-type {\n",
              "        vertical-align: middle;\n",
              "    }\n",
              "\n",
              "    .dataframe tbody tr th {\n",
              "        vertical-align: top;\n",
              "    }\n",
              "\n",
              "    .dataframe thead th {\n",
              "        text-align: right;\n",
              "    }\n",
              "</style>\n",
              "<table border=\"1\" class=\"dataframe\">\n",
              "  <thead>\n",
              "    <tr style=\"text-align: right;\">\n",
              "      <th></th>\n",
              "      <th>id</th>\n",
              "      <th>updateTime</th>\n",
              "      <th>version</th>\n",
              "      <th>names</th>\n",
              "      <th>categories</th>\n",
              "      <th>confidence</th>\n",
              "      <th>brand</th>\n",
              "      <th>addresses</th>\n",
              "      <th>geometry</th>\n",
              "    </tr>\n",
              "  </thead>\n",
              "  <tbody>\n",
              "    <tr>\n",
              "      <th>0</th>\n",
              "      <td>1179039698803288</td>\n",
              "      <td>2023-11-08T00:00:00.000Z</td>\n",
              "      <td>0</td>\n",
              "      <td>{\"common\":[{\"value\":\"Arthur's Quest\",\"language...</td>\n",
              "      <td>{\"main\":\"landmark_and_historical_building\",\"al...</td>\n",
              "      <td>0.627857</td>\n",
              "      <td>None</td>\n",
              "      <td>[]</td>\n",
              "      <td>POINT (-5.7133051 50.0658607)</td>\n",
              "    </tr>\n",
              "    <tr>\n",
              "      <th>1</th>\n",
              "      <td>233241240773760</td>\n",
              "      <td>2023-11-08T00:00:00.000Z</td>\n",
              "      <td>0</td>\n",
              "      <td>{\"common\":[{\"value\":\"Cornish Coastal Path\",\"la...</td>\n",
              "      <td>{\"main\":\"hiking_trail\",\"alternate\":[\"landmark_...</td>\n",
              "      <td>0.787283</td>\n",
              "      <td>None</td>\n",
              "      <td>[]</td>\n",
              "      <td>POINT (-5.714477 50.0659304)</td>\n",
              "    </tr>\n",
              "    <tr>\n",
              "      <th>2</th>\n",
              "      <td>648481172291889</td>\n",
              "      <td>2023-11-08T00:00:00.000Z</td>\n",
              "      <td>0</td>\n",
              "      <td>{\"common\":[{\"value\":\"Porthcurno, Cornwall\",\"la...</td>\n",
              "      <td>{\"main\":\"landmark_and_historical_building\",\"al...</td>\n",
              "      <td>0.740240</td>\n",
              "      <td>None</td>\n",
              "      <td>[]</td>\n",
              "      <td>POINT (-5.670925 50.0382518)</td>\n",
              "    </tr>\n",
              "    <tr>\n",
              "      <th>3</th>\n",
              "      <td>690096137797489</td>\n",
              "      <td>2023-11-08T00:00:00.000Z</td>\n",
              "      <td>0</td>\n",
              "      <td>{\"common\":[{\"value\":\"Carn Guthensbrâs\",\"langua...</td>\n",
              "      <td>{\"main\":\"landmark_and_historical_building\",\"al...</td>\n",
              "      <td>0.791963</td>\n",
              "      <td>None</td>\n",
              "      <td>[]</td>\n",
              "      <td>POINT (-5.68333 50.03333)</td>\n",
              "    </tr>\n",
              "    <tr>\n",
              "      <th>4</th>\n",
              "      <td>1668347646734833</td>\n",
              "      <td>2023-11-08T00:00:00.000Z</td>\n",
              "      <td>0</td>\n",
              "      <td>{\"common\":[{\"value\":\"Pednvounder &amp; Treen Beach...</td>\n",
              "      <td>{\"main\":\"beach\",\"alternate\":[\"accommodation\"]}</td>\n",
              "      <td>0.903057</td>\n",
              "      <td>None</td>\n",
              "      <td>[{\"freeform\":\"TR19 6LF\",\"locality\":\"Penzance\",...</td>\n",
              "      <td>POINT (-5.6409763 50.0499056)</td>\n",
              "    </tr>\n",
              "  </tbody>\n",
              "</table>\n",
              "</div>\n",
              "    <div class=\"colab-df-buttons\">\n",
              "\n",
              "  <div class=\"colab-df-container\">\n",
              "    <button class=\"colab-df-convert\" onclick=\"convertToInteractive('df-8188f401-2f1f-427d-906e-447cda7b25eb')\"\n",
              "            title=\"Convert this dataframe to an interactive table.\"\n",
              "            style=\"display:none;\">\n",
              "\n",
              "  <svg xmlns=\"http://www.w3.org/2000/svg\" height=\"24px\" viewBox=\"0 -960 960 960\">\n",
              "    <path d=\"M120-120v-720h720v720H120Zm60-500h600v-160H180v160Zm220 220h160v-160H400v160Zm0 220h160v-160H400v160ZM180-400h160v-160H180v160Zm440 0h160v-160H620v160ZM180-180h160v-160H180v160Zm440 0h160v-160H620v160Z\"/>\n",
              "  </svg>\n",
              "    </button>\n",
              "\n",
              "  <style>\n",
              "    .colab-df-container {\n",
              "      display:flex;\n",
              "      gap: 12px;\n",
              "    }\n",
              "\n",
              "    .colab-df-convert {\n",
              "      background-color: #E8F0FE;\n",
              "      border: none;\n",
              "      border-radius: 50%;\n",
              "      cursor: pointer;\n",
              "      display: none;\n",
              "      fill: #1967D2;\n",
              "      height: 32px;\n",
              "      padding: 0 0 0 0;\n",
              "      width: 32px;\n",
              "    }\n",
              "\n",
              "    .colab-df-convert:hover {\n",
              "      background-color: #E2EBFA;\n",
              "      box-shadow: 0px 1px 2px rgba(60, 64, 67, 0.3), 0px 1px 3px 1px rgba(60, 64, 67, 0.15);\n",
              "      fill: #174EA6;\n",
              "    }\n",
              "\n",
              "    .colab-df-buttons div {\n",
              "      margin-bottom: 4px;\n",
              "    }\n",
              "\n",
              "    [theme=dark] .colab-df-convert {\n",
              "      background-color: #3B4455;\n",
              "      fill: #D2E3FC;\n",
              "    }\n",
              "\n",
              "    [theme=dark] .colab-df-convert:hover {\n",
              "      background-color: #434B5C;\n",
              "      box-shadow: 0px 1px 3px 1px rgba(0, 0, 0, 0.15);\n",
              "      filter: drop-shadow(0px 1px 2px rgba(0, 0, 0, 0.3));\n",
              "      fill: #FFFFFF;\n",
              "    }\n",
              "  </style>\n",
              "\n",
              "    <script>\n",
              "      const buttonEl =\n",
              "        document.querySelector('#df-8188f401-2f1f-427d-906e-447cda7b25eb button.colab-df-convert');\n",
              "      buttonEl.style.display =\n",
              "        google.colab.kernel.accessAllowed ? 'block' : 'none';\n",
              "\n",
              "      async function convertToInteractive(key) {\n",
              "        const element = document.querySelector('#df-8188f401-2f1f-427d-906e-447cda7b25eb');\n",
              "        const dataTable =\n",
              "          await google.colab.kernel.invokeFunction('convertToInteractive',\n",
              "                                                    [key], {});\n",
              "        if (!dataTable) return;\n",
              "\n",
              "        const docLinkHtml = 'Like what you see? Visit the ' +\n",
              "          '<a target=\"_blank\" href=https://colab.research.google.com/notebooks/data_table.ipynb>data table notebook</a>'\n",
              "          + ' to learn more about interactive tables.';\n",
              "        element.innerHTML = '';\n",
              "        dataTable['output_type'] = 'display_data';\n",
              "        await google.colab.output.renderOutput(dataTable, element);\n",
              "        const docLink = document.createElement('div');\n",
              "        docLink.innerHTML = docLinkHtml;\n",
              "        element.appendChild(docLink);\n",
              "      }\n",
              "    </script>\n",
              "  </div>\n",
              "\n",
              "\n",
              "<div id=\"df-a6b8a29a-babe-4c93-a881-72b5fb95936b\">\n",
              "  <button class=\"colab-df-quickchart\" onclick=\"quickchart('df-a6b8a29a-babe-4c93-a881-72b5fb95936b')\"\n",
              "            title=\"Suggest charts\"\n",
              "            style=\"display:none;\">\n",
              "\n",
              "<svg xmlns=\"http://www.w3.org/2000/svg\" height=\"24px\"viewBox=\"0 0 24 24\"\n",
              "     width=\"24px\">\n",
              "    <g>\n",
              "        <path d=\"M19 3H5c-1.1 0-2 .9-2 2v14c0 1.1.9 2 2 2h14c1.1 0 2-.9 2-2V5c0-1.1-.9-2-2-2zM9 17H7v-7h2v7zm4 0h-2V7h2v10zm4 0h-2v-4h2v4z\"/>\n",
              "    </g>\n",
              "</svg>\n",
              "  </button>\n",
              "\n",
              "<style>\n",
              "  .colab-df-quickchart {\n",
              "      --bg-color: #E8F0FE;\n",
              "      --fill-color: #1967D2;\n",
              "      --hover-bg-color: #E2EBFA;\n",
              "      --hover-fill-color: #174EA6;\n",
              "      --disabled-fill-color: #AAA;\n",
              "      --disabled-bg-color: #DDD;\n",
              "  }\n",
              "\n",
              "  [theme=dark] .colab-df-quickchart {\n",
              "      --bg-color: #3B4455;\n",
              "      --fill-color: #D2E3FC;\n",
              "      --hover-bg-color: #434B5C;\n",
              "      --hover-fill-color: #FFFFFF;\n",
              "      --disabled-bg-color: #3B4455;\n",
              "      --disabled-fill-color: #666;\n",
              "  }\n",
              "\n",
              "  .colab-df-quickchart {\n",
              "    background-color: var(--bg-color);\n",
              "    border: none;\n",
              "    border-radius: 50%;\n",
              "    cursor: pointer;\n",
              "    display: none;\n",
              "    fill: var(--fill-color);\n",
              "    height: 32px;\n",
              "    padding: 0;\n",
              "    width: 32px;\n",
              "  }\n",
              "\n",
              "  .colab-df-quickchart:hover {\n",
              "    background-color: var(--hover-bg-color);\n",
              "    box-shadow: 0 1px 2px rgba(60, 64, 67, 0.3), 0 1px 3px 1px rgba(60, 64, 67, 0.15);\n",
              "    fill: var(--button-hover-fill-color);\n",
              "  }\n",
              "\n",
              "  .colab-df-quickchart-complete:disabled,\n",
              "  .colab-df-quickchart-complete:disabled:hover {\n",
              "    background-color: var(--disabled-bg-color);\n",
              "    fill: var(--disabled-fill-color);\n",
              "    box-shadow: none;\n",
              "  }\n",
              "\n",
              "  .colab-df-spinner {\n",
              "    border: 2px solid var(--fill-color);\n",
              "    border-color: transparent;\n",
              "    border-bottom-color: var(--fill-color);\n",
              "    animation:\n",
              "      spin 1s steps(1) infinite;\n",
              "  }\n",
              "\n",
              "  @keyframes spin {\n",
              "    0% {\n",
              "      border-color: transparent;\n",
              "      border-bottom-color: var(--fill-color);\n",
              "      border-left-color: var(--fill-color);\n",
              "    }\n",
              "    20% {\n",
              "      border-color: transparent;\n",
              "      border-left-color: var(--fill-color);\n",
              "      border-top-color: var(--fill-color);\n",
              "    }\n",
              "    30% {\n",
              "      border-color: transparent;\n",
              "      border-left-color: var(--fill-color);\n",
              "      border-top-color: var(--fill-color);\n",
              "      border-right-color: var(--fill-color);\n",
              "    }\n",
              "    40% {\n",
              "      border-color: transparent;\n",
              "      border-right-color: var(--fill-color);\n",
              "      border-top-color: var(--fill-color);\n",
              "    }\n",
              "    60% {\n",
              "      border-color: transparent;\n",
              "      border-right-color: var(--fill-color);\n",
              "    }\n",
              "    80% {\n",
              "      border-color: transparent;\n",
              "      border-right-color: var(--fill-color);\n",
              "      border-bottom-color: var(--fill-color);\n",
              "    }\n",
              "    90% {\n",
              "      border-color: transparent;\n",
              "      border-bottom-color: var(--fill-color);\n",
              "    }\n",
              "  }\n",
              "</style>\n",
              "\n",
              "  <script>\n",
              "    async function quickchart(key) {\n",
              "      const quickchartButtonEl =\n",
              "        document.querySelector('#' + key + ' button');\n",
              "      quickchartButtonEl.disabled = true;  // To prevent multiple clicks.\n",
              "      quickchartButtonEl.classList.add('colab-df-spinner');\n",
              "      try {\n",
              "        const charts = await google.colab.kernel.invokeFunction(\n",
              "            'suggestCharts', [key], {});\n",
              "      } catch (error) {\n",
              "        console.error('Error during call to suggestCharts:', error);\n",
              "      }\n",
              "      quickchartButtonEl.classList.remove('colab-df-spinner');\n",
              "      quickchartButtonEl.classList.add('colab-df-quickchart-complete');\n",
              "    }\n",
              "    (() => {\n",
              "      let quickchartButtonEl =\n",
              "        document.querySelector('#df-a6b8a29a-babe-4c93-a881-72b5fb95936b button');\n",
              "      quickchartButtonEl.style.display =\n",
              "        google.colab.kernel.accessAllowed ? 'block' : 'none';\n",
              "    })();\n",
              "  </script>\n",
              "</div>\n",
              "    </div>\n",
              "  </div>\n"
            ]
          },
          "metadata": {},
          "execution_count": 7
        }
      ]
    },
    {
      "cell_type": "code",
      "source": [
        "from shapely import wkt\n",
        "gs = gpd.GeoSeries(df['geometry'].apply(wkt.loads))"
      ],
      "metadata": {
        "id": "QVrBJviH0qs9"
      },
      "execution_count": null,
      "outputs": []
    },
    {
      "cell_type": "code",
      "source": [
        "gf = gpd.GeoDataFrame(df, geometry=gs, crs=\"EPSG:4326\")"
      ],
      "metadata": {
        "id": "0qws3p1zAuOV"
      },
      "execution_count": null,
      "outputs": []
    },
    {
      "cell_type": "code",
      "source": [
        "from google.colab import drive\n",
        "drive.mount('/content/drive')"
      ],
      "metadata": {
        "colab": {
          "base_uri": "https://localhost:8080/"
        },
        "id": "EPGGTJdItPJJ",
        "outputId": "7c0cd0c1-7db2-49be-d138-35f9e7180820"
      },
      "execution_count": null,
      "outputs": [
        {
          "output_type": "stream",
          "name": "stdout",
          "text": [
            "Mounted at /content/drive\n"
          ]
        }
      ]
    },
    {
      "cell_type": "code",
      "source": [
        "gf.to_crs(\"EPSG:4326\", inplace=True)\n",
        "\n",
        "df['lon'] = gf.centroid.x\n",
        "df['lat'] = gf.centroid.y\n",
        "\n",
        "gf.to_crs(\"EPSG:27700\", inplace=True)\n",
        "\n",
        "df['x'] = gf.centroid.x\n",
        "df['y'] = gf.centroid.y"
      ],
      "metadata": {
        "colab": {
          "base_uri": "https://localhost:8080/"
        },
        "id": "Xd1dU74ICGGo",
        "outputId": "558fb903-46d3-4203-92bf-f078b4ddc1b1"
      },
      "execution_count": null,
      "outputs": [
        {
          "output_type": "stream",
          "name": "stderr",
          "text": [
            "<ipython-input-10-bc7cfd1129b8>:3: UserWarning: Geometry is in a geographic CRS. Results from 'centroid' are likely incorrect. Use 'GeoSeries.to_crs()' to re-project geometries to a projected CRS before this operation.\n",
            "\n",
            "  df['lon'] = gf.centroid.x\n",
            "<ipython-input-10-bc7cfd1129b8>:4: UserWarning: Geometry is in a geographic CRS. Results from 'centroid' are likely incorrect. Use 'GeoSeries.to_crs()' to re-project geometries to a projected CRS before this operation.\n",
            "\n",
            "  df['lat'] = gf.centroid.y\n"
          ]
        }
      ]
    },
    {
      "cell_type": "code",
      "source": [
        "df.drop(['geometry'], axis=1).to_csv(\"drive/MyDrive/overture/gbr.csv\")"
      ],
      "metadata": {
        "id": "J1Jt9j_1CMQd"
      },
      "execution_count": null,
      "outputs": []
    },
    {
      "cell_type": "code",
      "source": [
        "from google.colab import drive\n",
        "drive.mount('/content/drive')"
      ],
      "metadata": {
        "colab": {
          "base_uri": "https://localhost:8080/"
        },
        "id": "3YlgG3fyRKG2",
        "outputId": "c92662dd-b108-431f-883a-e26353f85b4a"
      },
      "execution_count": null,
      "outputs": [
        {
          "output_type": "stream",
          "name": "stdout",
          "text": [
            "Mounted at /content/drive\n"
          ]
        }
      ]
    },
    {
      "cell_type": "code",
      "source": [
        "import numpy as np\n",
        "import pandas as pd\n",
        "import geopandas as gpd"
      ],
      "metadata": {
        "id": "5jNVbpcqRAj9"
      },
      "execution_count": null,
      "outputs": []
    },
    {
      "cell_type": "code",
      "source": [
        "df = pd.read_csv(\"drive/MyDrive/overture/gbr.csv\")"
      ],
      "metadata": {
        "colab": {
          "base_uri": "https://localhost:8080/"
        },
        "id": "l4Gg_EVbRQID",
        "outputId": "416d1bf7-ec9f-44e5-9d32-e72eec7abbd3"
      },
      "execution_count": null,
      "outputs": [
        {
          "output_type": "stream",
          "name": "stderr",
          "text": [
            "<ipython-input-3-9250b5a46cdd>:1: DtypeWarning: Columns (1) have mixed types. Specify dtype option on import or set low_memory=False.\n",
            "  df = pd.read_csv(\"drive/MyDrive/overture/gbr.csv\")\n"
          ]
        }
      ]
    },
    {
      "cell_type": "code",
      "source": [
        "import json"
      ],
      "metadata": {
        "id": "h1LVRgHgOqC9"
      },
      "execution_count": null,
      "outputs": []
    },
    {
      "cell_type": "code",
      "source": [
        "# We only need the first name...\n",
        "def get_name(json_str):\n",
        "    try:\n",
        "        data = json.loads(json_str)\n",
        "        return data['common'][0]['value'] if data['common'] else None\n",
        "    except (KeyError, IndexError, TypeError, json.JSONDecodeError):\n",
        "        return None\n",
        "\n",
        "# Apply the function to the DataFrame\n",
        "df['extracted_name'] = df['names'].apply(get_name)"
      ],
      "metadata": {
        "id": "vciPOgFkOqzX"
      },
      "execution_count": null,
      "outputs": []
    },
    {
      "cell_type": "code",
      "source": [
        "amenities = df[df.categories.str.contains(\"restaurant|cafe|bar|shop|pub|hotel\")]"
      ],
      "metadata": {
        "id": "5ciNuEo1E4XO"
      },
      "execution_count": null,
      "outputs": []
    },
    {
      "cell_type": "markdown",
      "source": [
        "It uses data from OpenStreetMap (among other sources), so the names need a lot of cleaning."
      ],
      "metadata": {
        "id": "wl4bUDzlrT5O"
      }
    },
    {
      "cell_type": "code",
      "source": [
        "amenities['name'] = amenities.extracted_name.str.replace(\" UK & Ireland\", \"\")\n",
        "amenities['name'] = amenities.name.str.replace(\" GB\", \"\")\n",
        "amenities['name'] = amenities.name.str.replace(\" UK\", \"\")\n",
        "amenities['name'] = amenities.name.str.replace(\" Great Britain\", \"\")\n",
        "amenities['name'] = amenities.name.str.replace(\"Tesco [A-Z].*\", \"Tesco\")\n",
        "amenities['name'] = amenities.name.str.replace(\"Sainsbury's [A-Z].*\", \"Sainsbury's\")\n",
        "amenities['name'] = amenities.name.str.replace(\"Pizza Hut [A-Z].*\", \"Pizza Hut\")\n",
        "amenities['name'] = amenities.name.str.lower()"
      ],
      "metadata": {
        "colab": {
          "base_uri": "https://localhost:8080/"
        },
        "id": "5chudLXbrGIM",
        "outputId": "c6b04f43-ee04-4291-b9f0-2deeb892bb26"
      },
      "execution_count": null,
      "outputs": [
        {
          "output_type": "stream",
          "name": "stderr",
          "text": [
            "<ipython-input-15-f60b4219c81e>:1: SettingWithCopyWarning: \n",
            "A value is trying to be set on a copy of a slice from a DataFrame.\n",
            "Try using .loc[row_indexer,col_indexer] = value instead\n",
            "\n",
            "See the caveats in the documentation: https://pandas.pydata.org/pandas-docs/stable/user_guide/indexing.html#returning-a-view-versus-a-copy\n",
            "  amenities['name'] = amenities.extracted_name.str.replace(\" UK & Ireland\", \"\")\n",
            "<ipython-input-15-f60b4219c81e>:2: SettingWithCopyWarning: \n",
            "A value is trying to be set on a copy of a slice from a DataFrame.\n",
            "Try using .loc[row_indexer,col_indexer] = value instead\n",
            "\n",
            "See the caveats in the documentation: https://pandas.pydata.org/pandas-docs/stable/user_guide/indexing.html#returning-a-view-versus-a-copy\n",
            "  amenities['name'] = amenities.name.str.replace(\" GB\", \"\")\n",
            "<ipython-input-15-f60b4219c81e>:3: SettingWithCopyWarning: \n",
            "A value is trying to be set on a copy of a slice from a DataFrame.\n",
            "Try using .loc[row_indexer,col_indexer] = value instead\n",
            "\n",
            "See the caveats in the documentation: https://pandas.pydata.org/pandas-docs/stable/user_guide/indexing.html#returning-a-view-versus-a-copy\n",
            "  amenities['name'] = amenities.name.str.replace(\" UK\", \"\")\n",
            "<ipython-input-15-f60b4219c81e>:4: SettingWithCopyWarning: \n",
            "A value is trying to be set on a copy of a slice from a DataFrame.\n",
            "Try using .loc[row_indexer,col_indexer] = value instead\n",
            "\n",
            "See the caveats in the documentation: https://pandas.pydata.org/pandas-docs/stable/user_guide/indexing.html#returning-a-view-versus-a-copy\n",
            "  amenities['name'] = amenities.name.str.replace(\" Great Britain\", \"\")\n",
            "<ipython-input-15-f60b4219c81e>:5: FutureWarning: The default value of regex will change from True to False in a future version.\n",
            "  amenities['name'] = amenities.name.str.replace(\"Tesco [A-Z].*\", \"Tesco\")\n",
            "<ipython-input-15-f60b4219c81e>:5: SettingWithCopyWarning: \n",
            "A value is trying to be set on a copy of a slice from a DataFrame.\n",
            "Try using .loc[row_indexer,col_indexer] = value instead\n",
            "\n",
            "See the caveats in the documentation: https://pandas.pydata.org/pandas-docs/stable/user_guide/indexing.html#returning-a-view-versus-a-copy\n",
            "  amenities['name'] = amenities.name.str.replace(\"Tesco [A-Z].*\", \"Tesco\")\n",
            "<ipython-input-15-f60b4219c81e>:6: FutureWarning: The default value of regex will change from True to False in a future version.\n",
            "  amenities['name'] = amenities.name.str.replace(\"Sainsbury's [A-Z].*\", \"Sainsbury's\")\n",
            "<ipython-input-15-f60b4219c81e>:6: SettingWithCopyWarning: \n",
            "A value is trying to be set on a copy of a slice from a DataFrame.\n",
            "Try using .loc[row_indexer,col_indexer] = value instead\n",
            "\n",
            "See the caveats in the documentation: https://pandas.pydata.org/pandas-docs/stable/user_guide/indexing.html#returning-a-view-versus-a-copy\n",
            "  amenities['name'] = amenities.name.str.replace(\"Sainsbury's [A-Z].*\", \"Sainsbury's\")\n",
            "<ipython-input-15-f60b4219c81e>:7: FutureWarning: The default value of regex will change from True to False in a future version.\n",
            "  amenities['name'] = amenities.name.str.replace(\"Pizza Hut [A-Z].*\", \"Pizza Hut\")\n",
            "<ipython-input-15-f60b4219c81e>:7: SettingWithCopyWarning: \n",
            "A value is trying to be set on a copy of a slice from a DataFrame.\n",
            "Try using .loc[row_indexer,col_indexer] = value instead\n",
            "\n",
            "See the caveats in the documentation: https://pandas.pydata.org/pandas-docs/stable/user_guide/indexing.html#returning-a-view-versus-a-copy\n",
            "  amenities['name'] = amenities.name.str.replace(\"Pizza Hut [A-Z].*\", \"Pizza Hut\")\n",
            "<ipython-input-15-f60b4219c81e>:8: SettingWithCopyWarning: \n",
            "A value is trying to be set on a copy of a slice from a DataFrame.\n",
            "Try using .loc[row_indexer,col_indexer] = value instead\n",
            "\n",
            "See the caveats in the documentation: https://pandas.pydata.org/pandas-docs/stable/user_guide/indexing.html#returning-a-view-versus-a-copy\n",
            "  amenities['name'] = amenities.name.str.lower()\n"
          ]
        }
      ]
    },
    {
      "cell_type": "code",
      "source": [
        "top_n = amenities.name.value_counts()\n",
        "top_n = top_n[top_n > 50]"
      ],
      "metadata": {
        "id": "rcfAKWn0Jr4c"
      },
      "execution_count": null,
      "outputs": []
    },
    {
      "cell_type": "code",
      "source": [
        "chains = amenities[amenities.name.isin(top_n.index)]"
      ],
      "metadata": {
        "id": "KHvj0BvzNaXS"
      },
      "execution_count": null,
      "outputs": []
    },
    {
      "cell_type": "code",
      "source": [
        "chains.shape[0]"
      ],
      "metadata": {
        "colab": {
          "base_uri": "https://localhost:8080/"
        },
        "id": "OJCC8uIIl2yO",
        "outputId": "b96e3b3a-fbde-42d9-93d4-303f9d17baec"
      },
      "execution_count": null,
      "outputs": [
        {
          "output_type": "execute_result",
          "data": {
            "text/plain": [
              "42858"
            ]
          },
          "metadata": {},
          "execution_count": 18
        }
      ]
    },
    {
      "cell_type": "markdown",
      "source": [
        "We will build graph embeddings from proximity: if 2 POIs are nearby, we will link them."
      ],
      "metadata": {
        "id": "N7AlkmvordYv"
      }
    },
    {
      "cell_type": "code",
      "source": [
        "# Step 1: Convert to GeoDataFrame\n",
        "gdf = gpd.GeoDataFrame(chains[['name']], geometry=gpd.points_from_xy(chains.x, chains.y))\n",
        "\n",
        "# Step 2: Create 250m buffers\n",
        "gdf['geometry'] = gdf.geometry.buffer(250)\n",
        "\n",
        "# Step 3: Spatial join - this finds which points are within 250m of each other\n",
        "joined = gpd.sjoin(gdf, gdf, how='inner', predicate='intersects')\n",
        "\n",
        "# Step 4: Count co-occurrences - but exclude self-join\n",
        "edge_counts = joined[joined['name_left'] != joined['name_right']].groupby(['name_left', 'name_right']).size().reset_index(name='count')\n",
        "edge_counts.head()"
      ],
      "metadata": {
        "colab": {
          "base_uri": "https://localhost:8080/",
          "height": 206
        },
        "id": "keBtLNJsRb07",
        "outputId": "ddfad7ec-64f1-4078-b13b-505b80174ed7"
      },
      "execution_count": null,
      "outputs": [
        {
          "output_type": "execute_result",
          "data": {
            "text/plain": [
              "       name_left   name_right  count\n",
              "0  admiral slots          age      9\n",
              "1  admiral slots         aldi     24\n",
              "2  admiral slots        argos      8\n",
              "3  admiral slots         asda     26\n",
              "4  admiral slots  ask italian     11"
            ],
            "text/html": [
              "\n",
              "  <div id=\"df-015450c2-fe27-4769-81db-aa077dcaa256\" class=\"colab-df-container\">\n",
              "    <div>\n",
              "<style scoped>\n",
              "    .dataframe tbody tr th:only-of-type {\n",
              "        vertical-align: middle;\n",
              "    }\n",
              "\n",
              "    .dataframe tbody tr th {\n",
              "        vertical-align: top;\n",
              "    }\n",
              "\n",
              "    .dataframe thead th {\n",
              "        text-align: right;\n",
              "    }\n",
              "</style>\n",
              "<table border=\"1\" class=\"dataframe\">\n",
              "  <thead>\n",
              "    <tr style=\"text-align: right;\">\n",
              "      <th></th>\n",
              "      <th>name_left</th>\n",
              "      <th>name_right</th>\n",
              "      <th>count</th>\n",
              "    </tr>\n",
              "  </thead>\n",
              "  <tbody>\n",
              "    <tr>\n",
              "      <th>0</th>\n",
              "      <td>admiral slots</td>\n",
              "      <td>age</td>\n",
              "      <td>9</td>\n",
              "    </tr>\n",
              "    <tr>\n",
              "      <th>1</th>\n",
              "      <td>admiral slots</td>\n",
              "      <td>aldi</td>\n",
              "      <td>24</td>\n",
              "    </tr>\n",
              "    <tr>\n",
              "      <th>2</th>\n",
              "      <td>admiral slots</td>\n",
              "      <td>argos</td>\n",
              "      <td>8</td>\n",
              "    </tr>\n",
              "    <tr>\n",
              "      <th>3</th>\n",
              "      <td>admiral slots</td>\n",
              "      <td>asda</td>\n",
              "      <td>26</td>\n",
              "    </tr>\n",
              "    <tr>\n",
              "      <th>4</th>\n",
              "      <td>admiral slots</td>\n",
              "      <td>ask italian</td>\n",
              "      <td>11</td>\n",
              "    </tr>\n",
              "  </tbody>\n",
              "</table>\n",
              "</div>\n",
              "    <div class=\"colab-df-buttons\">\n",
              "\n",
              "  <div class=\"colab-df-container\">\n",
              "    <button class=\"colab-df-convert\" onclick=\"convertToInteractive('df-015450c2-fe27-4769-81db-aa077dcaa256')\"\n",
              "            title=\"Convert this dataframe to an interactive table.\"\n",
              "            style=\"display:none;\">\n",
              "\n",
              "  <svg xmlns=\"http://www.w3.org/2000/svg\" height=\"24px\" viewBox=\"0 -960 960 960\">\n",
              "    <path d=\"M120-120v-720h720v720H120Zm60-500h600v-160H180v160Zm220 220h160v-160H400v160Zm0 220h160v-160H400v160ZM180-400h160v-160H180v160Zm440 0h160v-160H620v160ZM180-180h160v-160H180v160Zm440 0h160v-160H620v160Z\"/>\n",
              "  </svg>\n",
              "    </button>\n",
              "\n",
              "  <style>\n",
              "    .colab-df-container {\n",
              "      display:flex;\n",
              "      gap: 12px;\n",
              "    }\n",
              "\n",
              "    .colab-df-convert {\n",
              "      background-color: #E8F0FE;\n",
              "      border: none;\n",
              "      border-radius: 50%;\n",
              "      cursor: pointer;\n",
              "      display: none;\n",
              "      fill: #1967D2;\n",
              "      height: 32px;\n",
              "      padding: 0 0 0 0;\n",
              "      width: 32px;\n",
              "    }\n",
              "\n",
              "    .colab-df-convert:hover {\n",
              "      background-color: #E2EBFA;\n",
              "      box-shadow: 0px 1px 2px rgba(60, 64, 67, 0.3), 0px 1px 3px 1px rgba(60, 64, 67, 0.15);\n",
              "      fill: #174EA6;\n",
              "    }\n",
              "\n",
              "    .colab-df-buttons div {\n",
              "      margin-bottom: 4px;\n",
              "    }\n",
              "\n",
              "    [theme=dark] .colab-df-convert {\n",
              "      background-color: #3B4455;\n",
              "      fill: #D2E3FC;\n",
              "    }\n",
              "\n",
              "    [theme=dark] .colab-df-convert:hover {\n",
              "      background-color: #434B5C;\n",
              "      box-shadow: 0px 1px 3px 1px rgba(0, 0, 0, 0.15);\n",
              "      filter: drop-shadow(0px 1px 2px rgba(0, 0, 0, 0.3));\n",
              "      fill: #FFFFFF;\n",
              "    }\n",
              "  </style>\n",
              "\n",
              "    <script>\n",
              "      const buttonEl =\n",
              "        document.querySelector('#df-015450c2-fe27-4769-81db-aa077dcaa256 button.colab-df-convert');\n",
              "      buttonEl.style.display =\n",
              "        google.colab.kernel.accessAllowed ? 'block' : 'none';\n",
              "\n",
              "      async function convertToInteractive(key) {\n",
              "        const element = document.querySelector('#df-015450c2-fe27-4769-81db-aa077dcaa256');\n",
              "        const dataTable =\n",
              "          await google.colab.kernel.invokeFunction('convertToInteractive',\n",
              "                                                    [key], {});\n",
              "        if (!dataTable) return;\n",
              "\n",
              "        const docLinkHtml = 'Like what you see? Visit the ' +\n",
              "          '<a target=\"_blank\" href=https://colab.research.google.com/notebooks/data_table.ipynb>data table notebook</a>'\n",
              "          + ' to learn more about interactive tables.';\n",
              "        element.innerHTML = '';\n",
              "        dataTable['output_type'] = 'display_data';\n",
              "        await google.colab.output.renderOutput(dataTable, element);\n",
              "        const docLink = document.createElement('div');\n",
              "        docLink.innerHTML = docLinkHtml;\n",
              "        element.appendChild(docLink);\n",
              "      }\n",
              "    </script>\n",
              "  </div>\n",
              "\n",
              "\n",
              "<div id=\"df-fbd285ce-f654-4da4-ad9c-fba94749832e\">\n",
              "  <button class=\"colab-df-quickchart\" onclick=\"quickchart('df-fbd285ce-f654-4da4-ad9c-fba94749832e')\"\n",
              "            title=\"Suggest charts\"\n",
              "            style=\"display:none;\">\n",
              "\n",
              "<svg xmlns=\"http://www.w3.org/2000/svg\" height=\"24px\"viewBox=\"0 0 24 24\"\n",
              "     width=\"24px\">\n",
              "    <g>\n",
              "        <path d=\"M19 3H5c-1.1 0-2 .9-2 2v14c0 1.1.9 2 2 2h14c1.1 0 2-.9 2-2V5c0-1.1-.9-2-2-2zM9 17H7v-7h2v7zm4 0h-2V7h2v10zm4 0h-2v-4h2v4z\"/>\n",
              "    </g>\n",
              "</svg>\n",
              "  </button>\n",
              "\n",
              "<style>\n",
              "  .colab-df-quickchart {\n",
              "      --bg-color: #E8F0FE;\n",
              "      --fill-color: #1967D2;\n",
              "      --hover-bg-color: #E2EBFA;\n",
              "      --hover-fill-color: #174EA6;\n",
              "      --disabled-fill-color: #AAA;\n",
              "      --disabled-bg-color: #DDD;\n",
              "  }\n",
              "\n",
              "  [theme=dark] .colab-df-quickchart {\n",
              "      --bg-color: #3B4455;\n",
              "      --fill-color: #D2E3FC;\n",
              "      --hover-bg-color: #434B5C;\n",
              "      --hover-fill-color: #FFFFFF;\n",
              "      --disabled-bg-color: #3B4455;\n",
              "      --disabled-fill-color: #666;\n",
              "  }\n",
              "\n",
              "  .colab-df-quickchart {\n",
              "    background-color: var(--bg-color);\n",
              "    border: none;\n",
              "    border-radius: 50%;\n",
              "    cursor: pointer;\n",
              "    display: none;\n",
              "    fill: var(--fill-color);\n",
              "    height: 32px;\n",
              "    padding: 0;\n",
              "    width: 32px;\n",
              "  }\n",
              "\n",
              "  .colab-df-quickchart:hover {\n",
              "    background-color: var(--hover-bg-color);\n",
              "    box-shadow: 0 1px 2px rgba(60, 64, 67, 0.3), 0 1px 3px 1px rgba(60, 64, 67, 0.15);\n",
              "    fill: var(--button-hover-fill-color);\n",
              "  }\n",
              "\n",
              "  .colab-df-quickchart-complete:disabled,\n",
              "  .colab-df-quickchart-complete:disabled:hover {\n",
              "    background-color: var(--disabled-bg-color);\n",
              "    fill: var(--disabled-fill-color);\n",
              "    box-shadow: none;\n",
              "  }\n",
              "\n",
              "  .colab-df-spinner {\n",
              "    border: 2px solid var(--fill-color);\n",
              "    border-color: transparent;\n",
              "    border-bottom-color: var(--fill-color);\n",
              "    animation:\n",
              "      spin 1s steps(1) infinite;\n",
              "  }\n",
              "\n",
              "  @keyframes spin {\n",
              "    0% {\n",
              "      border-color: transparent;\n",
              "      border-bottom-color: var(--fill-color);\n",
              "      border-left-color: var(--fill-color);\n",
              "    }\n",
              "    20% {\n",
              "      border-color: transparent;\n",
              "      border-left-color: var(--fill-color);\n",
              "      border-top-color: var(--fill-color);\n",
              "    }\n",
              "    30% {\n",
              "      border-color: transparent;\n",
              "      border-left-color: var(--fill-color);\n",
              "      border-top-color: var(--fill-color);\n",
              "      border-right-color: var(--fill-color);\n",
              "    }\n",
              "    40% {\n",
              "      border-color: transparent;\n",
              "      border-right-color: var(--fill-color);\n",
              "      border-top-color: var(--fill-color);\n",
              "    }\n",
              "    60% {\n",
              "      border-color: transparent;\n",
              "      border-right-color: var(--fill-color);\n",
              "    }\n",
              "    80% {\n",
              "      border-color: transparent;\n",
              "      border-right-color: var(--fill-color);\n",
              "      border-bottom-color: var(--fill-color);\n",
              "    }\n",
              "    90% {\n",
              "      border-color: transparent;\n",
              "      border-bottom-color: var(--fill-color);\n",
              "    }\n",
              "  }\n",
              "</style>\n",
              "\n",
              "  <script>\n",
              "    async function quickchart(key) {\n",
              "      const quickchartButtonEl =\n",
              "        document.querySelector('#' + key + ' button');\n",
              "      quickchartButtonEl.disabled = true;  // To prevent multiple clicks.\n",
              "      quickchartButtonEl.classList.add('colab-df-spinner');\n",
              "      try {\n",
              "        const charts = await google.colab.kernel.invokeFunction(\n",
              "            'suggestCharts', [key], {});\n",
              "      } catch (error) {\n",
              "        console.error('Error during call to suggestCharts:', error);\n",
              "      }\n",
              "      quickchartButtonEl.classList.remove('colab-df-spinner');\n",
              "      quickchartButtonEl.classList.add('colab-df-quickchart-complete');\n",
              "    }\n",
              "    (() => {\n",
              "      let quickchartButtonEl =\n",
              "        document.querySelector('#df-fbd285ce-f654-4da4-ad9c-fba94749832e button');\n",
              "      quickchartButtonEl.style.display =\n",
              "        google.colab.kernel.accessAllowed ? 'block' : 'none';\n",
              "    })();\n",
              "  </script>\n",
              "</div>\n",
              "    </div>\n",
              "  </div>\n"
            ]
          },
          "metadata": {},
          "execution_count": 19
        }
      ]
    },
    {
      "cell_type": "code",
      "source": [
        "# Step 1: Sort names within each pair\n",
        "edge_counts['sorted_pair'] = edge_counts.apply(lambda row: tuple(sorted([row['name_left'], row['name_right']])), axis=1)\n",
        "\n",
        "# Step 2: Remove duplicates\n",
        "edge_counts_unique = edge_counts.drop_duplicates(subset='sorted_pair')\n",
        "\n",
        "# Drop the temporary 'sorted_pair' column and reset index\n",
        "edge_counts_unique = edge_counts_unique.drop(columns='sorted_pair').reset_index(drop=True)"
      ],
      "metadata": {
        "id": "Yq-RsCpnhTgD"
      },
      "execution_count": null,
      "outputs": []
    },
    {
      "cell_type": "code",
      "source": [
        "import networkx as nx"
      ],
      "metadata": {
        "id": "Tz2-nVCLnL3p"
      },
      "execution_count": null,
      "outputs": []
    },
    {
      "cell_type": "code",
      "source": [
        "G = nx.from_pandas_edgelist(edge_counts_unique, 'name_left', 'name_right', ['count'])"
      ],
      "metadata": {
        "id": "4-ThrSjEm6hK"
      },
      "execution_count": null,
      "outputs": []
    },
    {
      "cell_type": "code",
      "source": [
        "from node2vec import Node2Vec"
      ],
      "metadata": {
        "id": "yr8qKLMwnOtO"
      },
      "execution_count": null,
      "outputs": []
    },
    {
      "cell_type": "code",
      "source": [
        "n2v = Node2Vec(G, dimensions=64, walk_length=30, num_walks=200, workers=4)"
      ],
      "metadata": {
        "colab": {
          "base_uri": "https://localhost:8080/",
          "height": 49,
          "referenced_widgets": [
            "10a31b6eac1b40b495344725e89d2d56",
            "8c9d99cc72b8419586f4d08276da4138",
            "5928ffd3a55f49d5a12f2503a850cb4c",
            "573d9c1012bc4d10b2295933acf7723c",
            "23c90a86aa914602b340d0a97fcd326d",
            "23c420b9a7174d25b5b6a34ed7fb8bc1",
            "8806c03b28a646169ba46f0e637673f0",
            "c2f5dd681bf743f696a9af0db2010dcd",
            "3a40bc0178364d19b25a55b345e361df",
            "56e9b2a1d11649aea5a9ee2b6099e003",
            "da27a41227ca47abac654c4284725129"
          ]
        },
        "id": "o_VTD6eCnQh5",
        "outputId": "982e828c-9361-4dcb-b942-60646baaac6c"
      },
      "execution_count": null,
      "outputs": [
        {
          "output_type": "display_data",
          "data": {
            "text/plain": [
              "Computing transition probabilities:   0%|          | 0/201 [00:00<?, ?it/s]"
            ],
            "application/vnd.jupyter.widget-view+json": {
              "version_major": 2,
              "version_minor": 0,
              "model_id": "10a31b6eac1b40b495344725e89d2d56"
            }
          },
          "metadata": {}
        }
      ]
    },
    {
      "cell_type": "code",
      "source": [
        "model = n2v.fit(window=10, min_count=1, batch_words=4)"
      ],
      "metadata": {
        "id": "FQTXxLj2nj6m"
      },
      "execution_count": null,
      "outputs": []
    },
    {
      "cell_type": "code",
      "source": [
        "embed = model.wv"
      ],
      "metadata": {
        "id": "HBQRf-Cwno-X"
      },
      "execution_count": null,
      "outputs": []
    },
    {
      "cell_type": "code",
      "source": [
        "pcmp = pacmap.PaCMAP(n_components=2, n_neighbors=None, MN_ratio=0.5, FP_ratio=2.0).fit_transform(embed.vectors, init=\"pca\")"
      ],
      "metadata": {
        "id": "vmJauemeBDqS"
      },
      "execution_count": null,
      "outputs": []
    },
    {
      "cell_type": "code",
      "source": [
        "# from sklearn.manifold import TSNE\n",
        "# emb2d = TSNE(n_components=2).fit_transform(embed.vectors)"
      ],
      "metadata": {
        "id": "bKJWgY4Pnq1s"
      },
      "execution_count": null,
      "outputs": []
    },
    {
      "cell_type": "code",
      "source": [
        "import matplotlib.pyplot as plt"
      ],
      "metadata": {
        "id": "spLimPAanwbZ"
      },
      "execution_count": null,
      "outputs": []
    },
    {
      "cell_type": "code",
      "source": [
        "from adjustText import adjust_text"
      ],
      "metadata": {
        "id": "7wTOUcjdnzzh"
      },
      "execution_count": null,
      "outputs": []
    },
    {
      "cell_type": "code",
      "source": [
        "labels = top_n.iloc[0:100]\n",
        "labels = labels.index"
      ],
      "metadata": {
        "id": "7cMwLtJkn9K2"
      },
      "execution_count": null,
      "outputs": []
    },
    {
      "cell_type": "code",
      "source": [
        "# We only need to first name...\n",
        "def get_category(json_str):\n",
        "    try:\n",
        "        data = json.loads(json_str)\n",
        "        return data['main'] if data['main'] else None\n",
        "    except (KeyError, IndexError, TypeError, json.JSONDecodeError):\n",
        "        return None"
      ],
      "metadata": {
        "id": "59A4EKVMwInm"
      },
      "execution_count": null,
      "outputs": []
    },
    {
      "cell_type": "code",
      "source": [
        "chains['category'] = chains.categories.apply(get_category)\n",
        "chains['category'] = chains.category.str.replace(\".*_\", \"\")\n",
        "categories = chains.groupby([\"name\", \"category\"], as_index=False).size().sort_values(\"size\", ascending=False).groupby(\"name\", as_index=False).first()\n",
        "categories = categories[['name', 'category']].set_index(\"name\")"
      ],
      "metadata": {
        "colab": {
          "base_uri": "https://localhost:8080/"
        },
        "id": "XSWWvRMjwhkU",
        "outputId": "ac9eb5ea-bab0-4fa0-d8a4-d7281e9129a7"
      },
      "execution_count": null,
      "outputs": [
        {
          "output_type": "stream",
          "name": "stderr",
          "text": [
            "<ipython-input-35-ade63596ed8f>:1: SettingWithCopyWarning: \n",
            "A value is trying to be set on a copy of a slice from a DataFrame.\n",
            "Try using .loc[row_indexer,col_indexer] = value instead\n",
            "\n",
            "See the caveats in the documentation: https://pandas.pydata.org/pandas-docs/stable/user_guide/indexing.html#returning-a-view-versus-a-copy\n",
            "  chains['category'] = chains.categories.apply(get_category)\n",
            "<ipython-input-35-ade63596ed8f>:2: FutureWarning: The default value of regex will change from True to False in a future version.\n",
            "  chains['category'] = chains.category.str.replace(\".*_\", \"\")\n",
            "<ipython-input-35-ade63596ed8f>:2: SettingWithCopyWarning: \n",
            "A value is trying to be set on a copy of a slice from a DataFrame.\n",
            "Try using .loc[row_indexer,col_indexer] = value instead\n",
            "\n",
            "See the caveats in the documentation: https://pandas.pydata.org/pandas-docs/stable/user_guide/indexing.html#returning-a-view-versus-a-copy\n",
            "  chains['category'] = chains.category.str.replace(\".*_\", \"\")\n"
          ]
        }
      ]
    },
    {
      "cell_type": "code",
      "source": [
        "import colorcet as cc"
      ],
      "metadata": {
        "id": "wgvCSjye0bXf"
      },
      "execution_count": null,
      "outputs": []
    },
    {
      "cell_type": "code",
      "source": [
        "colors = dict([(k, cc.glasbey_dark[i])for i, k in enumerate(categories.category.unique())])\n",
        "\n",
        "crosswalk = categories.to_dict()\n",
        "crosswalk = crosswalk.get('category')\n",
        "\n",
        "crosswalk = dict([(i[0], [i[1], colors.get(i[1])]) for i in crosswalk.items()])"
      ],
      "metadata": {
        "id": "eiy0HQ4TUT9N"
      },
      "execution_count": null,
      "outputs": []
    },
    {
      "cell_type": "code",
      "source": [
        "# Create the figure and axis objects\n",
        "fig, ax = plt.subplots(figsize=(20, 20), facecolor='#000000')\n",
        "\n",
        "# Set the style\n",
        "plt.style.use('dark_background')\n",
        "\n",
        "# Scatter plot with smaller white points\n",
        "ax.scatter(pcmp[:, 0], pcmp[:, 1], color='white', s=20)  # s is the size of the marker\n",
        "\n",
        "# Customizing the axes\n",
        "ax.spines['top'].set_visible(False)\n",
        "ax.spines['right'].set_visible(False)\n",
        "ax.spines['left'].set_color('white')\n",
        "ax.spines['bottom'].set_color('white')\n",
        "ax.tick_params(axis='x', colors='white')\n",
        "ax.tick_params(axis='y', colors='white')\n",
        "\n",
        "# Setting axis labels\n",
        "ax.set_xlabel('', fontsize=12, fontweight='bold', color='white')\n",
        "ax.set_ylabel('', fontsize=12, fontweight='bold', color='white')\n",
        "\n",
        "# Adding brand labels with adjustText\n",
        "texts = []\n",
        "for i, brand in enumerate(embed.index_to_key):\n",
        "    if brand in labels:\n",
        "      col = crosswalk.get(brand)\n",
        "      texts.append(ax.text(pcmp[i, 0], pcmp[i, 1], brand, color=col[1], ha='right', va='top'))\n",
        "\n",
        "adjust_text(texts, arrowprops=dict(arrowstyle='->', color='white'))\n",
        "\n",
        "plt.show()"
      ],
      "metadata": {
        "colab": {
          "base_uri": "https://localhost:8080/",
          "height": 1000
        },
        "id": "4ESY6iP5oJjB",
        "outputId": "d42f84cc-252e-4ec5-fcbe-8115db7fbeaa"
      },
      "execution_count": null,
      "outputs": [
        {
          "output_type": "display_data",
          "data": {
            "text/plain": [
              "<Figure size 2000x2000 with 1 Axes>"
            ],
            "image/png": "[encoded data removed]"
          },
          "metadata": {}
        }
      ]
    },
    {
      "cell_type": "code",
      "source": [],
      "metadata": {
        "id": "rVrjUoo-snPz"
      },
      "execution_count": null,
      "outputs": []
    }
  ]
}